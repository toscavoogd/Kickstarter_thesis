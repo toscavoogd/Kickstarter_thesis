{
 "metadata": {
  "language_info": {
   "codemirror_mode": {
    "name": "ipython",
    "version": 3
   },
   "file_extension": ".py",
   "mimetype": "text/x-python",
   "name": "python",
   "nbconvert_exporter": "python",
   "pygments_lexer": "ipython3",
   "version": "3.8.5"
  },
  "orig_nbformat": 2,
  "kernelspec": {
   "name": "python385jvsc74a57bd0c40bd1a94d29f9b829dc30a9632bd0f2ee319c04c26448f795744f33155270bf",
   "display_name": "Python 3.8.5 64-bit ('base': conda)"
  }
 },
 "nbformat": 4,
 "nbformat_minor": 2,
 "cells": [
  {
   "cell_type": "code",
   "execution_count": 1,
   "metadata": {},
   "outputs": [],
   "source": [
    "import pandas as pd\n",
    "import spacy"
   ]
  },
  {
   "cell_type": "code",
   "execution_count": 2,
   "metadata": {},
   "outputs": [
    {
     "output_type": "execute_result",
     "data": {
      "text/plain": [
       "Index(['Unnamed: 0', 'id', 'name', 'creator', 'goal', 'pledged_amount',\n",
       "       'percentage_fulfilled', 'status', 'backers', 'launch_date', 'deadline',\n",
       "       'duration_days', 'description', 'comments'],\n",
       "      dtype='object')"
      ]
     },
     "metadata": {},
     "execution_count": 2
    }
   ],
   "source": [
    "data = pd.read_excel('/Users/toscavoogd/Git_thesis_kick/Kickstarter_thesis/cleaned_data.xlsx')\n",
    "data.columns"
   ]
  },
  {
   "source": [
    "### normalize"
   ],
   "cell_type": "markdown",
   "metadata": {}
  },
  {
   "cell_type": "code",
   "execution_count": 3,
   "metadata": {},
   "outputs": [
    {
     "output_type": "execute_result",
     "data": {
      "text/plain": [
       "0      mark ison villegas days ago looking forward et...\n",
       "1      hannah day ago maybe simple printer guide migh...\n",
       "2      smaug days ago donator level excellent idea ch...\n",
       "3      shadowneko day ago titles says only available ...\n",
       "4      chloe wilkinson day ago hi cole ive added  wal...\n",
       "                             ...                        \n",
       "215    fangin month ago congratulations hitting targe...\n",
       "216    eric tien days ago many chapters total expect ...\n",
       "217    begnaud month ago world needs this thank creat...\n",
       "218    mischeel klatt minutes ago forgot increase con...\n",
       "219    hassan jaber hours ago hi first backing im sup...\n",
       "Name: comments, Length: 220, dtype: object"
      ]
     },
     "metadata": {},
     "execution_count": 3
    }
   ],
   "source": [
    "data_text = str(data['comments'])\n",
    "nlp = spacy.load('en_core_web_sm')\n",
    "text = data_text\n",
    "doc = nlp(text)\n",
    "doc"
   ]
  },
  {
   "source": [
    "# Split comments"
   ],
   "cell_type": "markdown",
   "metadata": {}
  },
  {
   "cell_type": "code",
   "execution_count": 4,
   "metadata": {},
   "outputs": [
    {
     "output_type": "execute_result",
     "data": {
      "text/plain": [
       "             id                                           comments\n",
       "0     617809533  mark ison villegas days ago looking forward et...\n",
       "1     236153263  hannah day ago maybe simple printer guide migh...\n",
       "2    1854794581  smaug days ago donator level excellent idea ch...\n",
       "3    1754229383  shadowneko day ago titles says only available ...\n",
       "4    1717499987  chloe wilkinson day ago hi cole ive added  wal...\n",
       "..          ...                                                ...\n",
       "215   252476802  fangin month ago congratulations hitting targe...\n",
       "216   217466423  eric tien days ago many chapters total expect ...\n",
       "217   246725515  begnaud month ago world needs this thank creat...\n",
       "218  1485748913  mischeel klatt minutes ago forgot increase con...\n",
       "219   406498745  hassan jaber hours ago hi first backing im sup...\n",
       "\n",
       "[220 rows x 2 columns]"
      ],
      "text/html": "<div>\n<style scoped>\n    .dataframe tbody tr th:only-of-type {\n        vertical-align: middle;\n    }\n\n    .dataframe tbody tr th {\n        vertical-align: top;\n    }\n\n    .dataframe thead th {\n        text-align: right;\n    }\n</style>\n<table border=\"1\" class=\"dataframe\">\n  <thead>\n    <tr style=\"text-align: right;\">\n      <th></th>\n      <th>id</th>\n      <th>comments</th>\n    </tr>\n  </thead>\n  <tbody>\n    <tr>\n      <th>0</th>\n      <td>617809533</td>\n      <td>mark ison villegas days ago looking forward et...</td>\n    </tr>\n    <tr>\n      <th>1</th>\n      <td>236153263</td>\n      <td>hannah day ago maybe simple printer guide migh...</td>\n    </tr>\n    <tr>\n      <th>2</th>\n      <td>1854794581</td>\n      <td>smaug days ago donator level excellent idea ch...</td>\n    </tr>\n    <tr>\n      <th>3</th>\n      <td>1754229383</td>\n      <td>shadowneko day ago titles says only available ...</td>\n    </tr>\n    <tr>\n      <th>4</th>\n      <td>1717499987</td>\n      <td>chloe wilkinson day ago hi cole ive added  wal...</td>\n    </tr>\n    <tr>\n      <th>...</th>\n      <td>...</td>\n      <td>...</td>\n    </tr>\n    <tr>\n      <th>215</th>\n      <td>252476802</td>\n      <td>fangin month ago congratulations hitting targe...</td>\n    </tr>\n    <tr>\n      <th>216</th>\n      <td>217466423</td>\n      <td>eric tien days ago many chapters total expect ...</td>\n    </tr>\n    <tr>\n      <th>217</th>\n      <td>246725515</td>\n      <td>begnaud month ago world needs this thank creat...</td>\n    </tr>\n    <tr>\n      <th>218</th>\n      <td>1485748913</td>\n      <td>mischeel klatt minutes ago forgot increase con...</td>\n    </tr>\n    <tr>\n      <th>219</th>\n      <td>406498745</td>\n      <td>hassan jaber hours ago hi first backing im sup...</td>\n    </tr>\n  </tbody>\n</table>\n<p>220 rows × 2 columns</p>\n</div>"
     },
     "metadata": {},
     "execution_count": 4
    }
   ],
   "source": [
    "sentiment_data = data[['id', 'comments']]\n",
    "sentiment_data"
   ]
  },
  {
   "cell_type": "code",
   "execution_count": 5,
   "metadata": {},
   "outputs": [],
   "source": [
    "sentiment_data = sentiment_data.drop('comments', axis=1).join(sentiment_data['comments'].str.split('ago', expand=True).stack().reset_index(level=1, drop=True).rename('comments'))"
   ]
  },
  {
   "cell_type": "code",
   "execution_count": 6,
   "metadata": {},
   "outputs": [
    {
     "output_type": "execute_result",
     "data": {
      "text/plain": [
       "            id                                           comments\n",
       "0    617809533                           mark ison villegas days \n",
       "0    617809533   looking forward etraining ive waiting long ti...\n",
       "0    617809533   intense support thank much would love share k...\n",
       "0    617809533   glad kawakami sensei changed mind transmissio...\n",
       "0    617809533   support encouraging thank much regarding ques...\n",
       "..         ...                                                ...\n",
       "219  406498745   hi wondering ordered set knives work wondered...\n",
       "219  406498745   hi terry thanks support special addon extra s...\n",
       "219  406498745   congrats amazing set reach k switch addon blo...\n",
       "219  406498745   hi suzanna good hear say when were still thin...\n",
       "219  406498745                                                  c\n",
       "\n",
       "[8491 rows x 2 columns]"
      ],
      "text/html": "<div>\n<style scoped>\n    .dataframe tbody tr th:only-of-type {\n        vertical-align: middle;\n    }\n\n    .dataframe tbody tr th {\n        vertical-align: top;\n    }\n\n    .dataframe thead th {\n        text-align: right;\n    }\n</style>\n<table border=\"1\" class=\"dataframe\">\n  <thead>\n    <tr style=\"text-align: right;\">\n      <th></th>\n      <th>id</th>\n      <th>comments</th>\n    </tr>\n  </thead>\n  <tbody>\n    <tr>\n      <th>0</th>\n      <td>617809533</td>\n      <td>mark ison villegas days</td>\n    </tr>\n    <tr>\n      <th>0</th>\n      <td>617809533</td>\n      <td>looking forward etraining ive waiting long ti...</td>\n    </tr>\n    <tr>\n      <th>0</th>\n      <td>617809533</td>\n      <td>intense support thank much would love share k...</td>\n    </tr>\n    <tr>\n      <th>0</th>\n      <td>617809533</td>\n      <td>glad kawakami sensei changed mind transmissio...</td>\n    </tr>\n    <tr>\n      <th>0</th>\n      <td>617809533</td>\n      <td>support encouraging thank much regarding ques...</td>\n    </tr>\n    <tr>\n      <th>...</th>\n      <td>...</td>\n      <td>...</td>\n    </tr>\n    <tr>\n      <th>219</th>\n      <td>406498745</td>\n      <td>hi wondering ordered set knives work wondered...</td>\n    </tr>\n    <tr>\n      <th>219</th>\n      <td>406498745</td>\n      <td>hi terry thanks support special addon extra s...</td>\n    </tr>\n    <tr>\n      <th>219</th>\n      <td>406498745</td>\n      <td>congrats amazing set reach k switch addon blo...</td>\n    </tr>\n    <tr>\n      <th>219</th>\n      <td>406498745</td>\n      <td>hi suzanna good hear say when were still thin...</td>\n    </tr>\n    <tr>\n      <th>219</th>\n      <td>406498745</td>\n      <td>c</td>\n    </tr>\n  </tbody>\n</table>\n<p>8491 rows × 2 columns</p>\n</div>"
     },
     "metadata": {},
     "execution_count": 6
    }
   ],
   "source": [
    "sentiment_data"
   ]
  },
  {
   "cell_type": "code",
   "execution_count": 21,
   "metadata": {},
   "outputs": [],
   "source": [
    "sentiment_data.to_excel('/Users/toscavoogd/Kickstarter_selenium_scrape/test_comments1.xlsx')\n",
    "#go to alteryx"
   ]
  }
 ]
}