{
 "metadata": {
  "language_info": {
   "codemirror_mode": {
    "name": "ipython",
    "version": 3
   },
   "file_extension": ".py",
   "mimetype": "text/x-python",
   "name": "python",
   "nbconvert_exporter": "python",
   "pygments_lexer": "ipython3",
   "version": "3.8.5"
  },
  "orig_nbformat": 2,
  "kernelspec": {
   "name": "python385jvsc74a57bd0c40bd1a94d29f9b829dc30a9632bd0f2ee319c04c26448f795744f33155270bf",
   "display_name": "Python 3.8.5 64-bit ('base': conda)"
  }
 },
 "nbformat": 4,
 "nbformat_minor": 2,
 "cells": [
  {
   "cell_type": "code",
   "execution_count": null,
   "metadata": {},
   "outputs": [],
   "source": [
    "import pandas as pd\n",
    "import spacy"
   ]
  },
  {
   "cell_type": "code",
   "execution_count": null,
   "metadata": {},
   "outputs": [],
   "source": [
    "#Change to YOUR path\n",
    "\n",
    "dir_path = '/Users/toscavoogd/Git_thesis_kick/Kickstarter_thesis/'"
   ]
  },
  {
   "cell_type": "code",
   "execution_count": null,
   "metadata": {},
   "outputs": [],
   "source": [
    "data = pd.read_excel(dir_path + 'cleaned_data.xlsx')\n",
    "data.columns"
   ]
  },
  {
   "source": [
    "### normalize"
   ],
   "cell_type": "markdown",
   "metadata": {}
  },
  {
   "cell_type": "code",
   "execution_count": null,
   "metadata": {},
   "outputs": [],
   "source": [
    "data_text = str(data['comments'])\n",
    "nlp = spacy.load('en_core_web_sm')\n",
    "text = data_text\n",
    "doc = nlp(text)\n",
    "doc"
   ]
  },
  {
   "source": [
    "# Split comments"
   ],
   "cell_type": "markdown",
   "metadata": {}
  },
  {
   "cell_type": "code",
   "execution_count": null,
   "metadata": {},
   "outputs": [],
   "source": [
    "sentiment_data = data[['id', 'comments']]\n",
    "sentiment_data"
   ]
  },
  {
   "cell_type": "code",
   "execution_count": null,
   "metadata": {},
   "outputs": [],
   "source": [
    "sentiment_data = sentiment_data.drop('comments', axis=1).join(sentiment_data['comments'].str.split('ago', expand=True).stack().reset_index(level=1, drop=True).rename('comments'))"
   ]
  },
  {
   "cell_type": "code",
   "execution_count": null,
   "metadata": {},
   "outputs": [],
   "source": [
    "sentiment_data"
   ]
  },
  {
   "cell_type": "code",
   "execution_count": null,
   "metadata": {},
   "outputs": [],
   "source": [
    "sentiment_data.to_excel(dir_path + 'test_comments1.xlsx')\n",
    "#go to alteryx"
   ]
  }
 ]
}