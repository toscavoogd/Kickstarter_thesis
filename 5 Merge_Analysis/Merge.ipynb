{
 "metadata": {
  "language_info": {
   "codemirror_mode": {
    "name": "ipython",
    "version": 3
   },
   "file_extension": ".py",
   "mimetype": "text/x-python",
   "name": "python",
   "nbconvert_exporter": "python",
   "pygments_lexer": "ipython3",
   "version": "3.8.5"
  },
  "orig_nbformat": 2,
  "kernelspec": {
   "name": "python385jvsc74a57bd0c40bd1a94d29f9b829dc30a9632bd0f2ee319c04c26448f795744f33155270bf",
   "display_name": "Python 3.8.5 64-bit ('base': conda)"
  }
 },
 "nbformat": 4,
 "nbformat_minor": 2,
 "cells": [
  {
   "source": [
    "# Import"
   ],
   "cell_type": "markdown",
   "metadata": {}
  },
  {
   "cell_type": "code",
   "execution_count": null,
   "metadata": {},
   "outputs": [],
   "source": [
    "import pandas as pd\n",
    "import numpy as np \n",
    "import matplotlib.pyplot as plt\n",
    "import pingouin as pg\n",
    "\n",
    "from numpy import mean\n",
    "from numpy import std\n",
    "from numpy.random import randn\n",
    "from numpy.random import seed\n",
    "from matplotlib import pyplot"
   ]
  },
  {
   "cell_type": "code",
   "execution_count": null,
   "metadata": {},
   "outputs": [],
   "source": [
    "#Change to YOUR path \n",
    "\n",
    "dir_path = '/Users/toscavoogd/Git_thesis_kick/Kickstarter_thesis/'"
   ]
  },
  {
   "source": [
    "# Load data"
   ],
   "cell_type": "markdown",
   "metadata": {}
  },
  {
   "cell_type": "code",
   "execution_count": null,
   "metadata": {},
   "outputs": [],
   "source": [
    "#load data\n",
    "data = pd.read_excel(dir_path + 'cleaned_data.xlsx', index_col=0)\n",
    "com_des_sus = pd.read_excel(dir_path + '4 bag-of-words/sustainability_data.xlsx')\n",
    "com_des_innov = pd.read_excel(dir_path + '4 bag-of-words/innovation_data.xlsx')\n",
    "sentiment = pd.read_excel(dir_path + '3 Sentiment/sentiment_data.xlsx')\n",
    "comment_count = pd.read_excel(dir_path + 'comment_count.xlsx')"
   ]
  },
  {
   "cell_type": "code",
   "execution_count": null,
   "metadata": {},
   "outputs": [],
   "source": [
    "data.columns"
   ]
  },
  {
   "cell_type": "code",
   "execution_count": null,
   "metadata": {},
   "outputs": [],
   "source": [
    "com_des_sus = com_des_sus.rename(columns={'Sum_ContainWordComment': 'sus_com_totalword'}, index={'ONE': 'Row_1'})\n",
    "com_des_sus = com_des_sus.rename(columns={'StdDev_ContainWordComment': 'sus_com_StdDev'}, index={'ONE': 'Row_1'})\n",
    "com_des_sus = com_des_sus.rename(columns={'Sum_ContainWordDescription': 'sus_des_totalword'}, index={'ONE': 'Row_1'})\n",
    "com_des_sus = com_des_sus.rename(columns={'StdDev_ContainWordDescription': 'sus_des_StdDev'}, index={'ONE': 'Row_1'})\n",
    "\n",
    "com_des_sus.columns"
   ]
  },
  {
   "cell_type": "code",
   "execution_count": null,
   "metadata": {},
   "outputs": [],
   "source": [
    "com_des_innov = com_des_innov.rename(columns={'Sum_ContainWordComment': 'innov_com_totalword'}, index={'ONE': 'Row_1'})\n",
    "com_des_innov = com_des_innov.rename(columns={'StdDev_ContainWordComment': 'innov_com_StdDev'}, index={'ONE': 'Row_1'})\n",
    "com_des_innov = com_des_innov.rename(columns={'Sum_ContainWordDescription': 'innov_des_totalword'}, index={'ONE': 'Row_1'})\n",
    "com_des_innov = com_des_innov.rename(columns={'StdDev_ContainWordDescription': 'innov_des_StdDev'}, index={'ONE': 'Row_1'})\n",
    "\n",
    "com_des_innov.columns"
   ]
  },
  {
   "cell_type": "code",
   "execution_count": null,
   "metadata": {},
   "outputs": [],
   "source": [
    "sentiment = sentiment.rename(columns={'StdDev_ContainWord': 'sentiment_com_StdDev'}, index={'ONE': 'Row_1'})\n",
    "\n",
    "sentiment.columns"
   ]
  },
  {
   "cell_type": "code",
   "execution_count": null,
   "metadata": {},
   "outputs": [],
   "source": [
    "comment_count = comment_count[['id', 'com_count']]\n",
    "comment_count.columns"
   ]
  },
  {
   "source": [
    "# Create pledge/backer ratio for hypothesis testing"
   ],
   "cell_type": "markdown",
   "metadata": {}
  },
  {
   "cell_type": "code",
   "execution_count": null,
   "metadata": {},
   "outputs": [],
   "source": [
    "data['pledge_backer_ratio'] = data['pledged_amount'] / data['backers']"
   ]
  },
  {
   "source": [
    "# Merge all data in one dataframe"
   ],
   "cell_type": "markdown",
   "metadata": {}
  },
  {
   "cell_type": "code",
   "execution_count": null,
   "metadata": {},
   "outputs": [],
   "source": [
    "from functools import reduce\n",
    "\n",
    "data_frames = [data, comment_count, com_des_sus, com_des_innov, sentiment]\n",
    "merged_data = reduce(lambda  left,right: pd.merge(left,right,on=['id'], how='left'), data_frames)"
   ]
  },
  {
   "cell_type": "code",
   "execution_count": null,
   "metadata": {},
   "outputs": [],
   "source": [
    "merged_data.columns"
   ]
  },
  {
   "cell_type": "code",
   "execution_count": null,
   "metadata": {},
   "outputs": [],
   "source": [
    "merged_data = merged_data.drop_duplicates()\n",
    "merged_data.count()"
   ]
  },
  {
   "source": [
    "## Save to excel"
   ],
   "cell_type": "markdown",
   "metadata": {}
  },
  {
   "cell_type": "code",
   "execution_count": null,
   "metadata": {},
   "outputs": [],
   "source": [
    "merged_data['budget_discussed'] = merged_data.description.str.count(\"budget\")\n",
    "merged_data"
   ]
  },
  {
   "cell_type": "code",
   "execution_count": null,
   "metadata": {},
   "outputs": [],
   "source": [
    "merged_data['com_count'] = merged_data['com_count'].str.replace(',','')\n",
    "merged_data.to_excel(dir_path + 'merged_data.xlsx')"
   ]
  },
  {
   "source": [
    "# Count number of words in the description"
   ],
   "cell_type": "markdown",
   "metadata": {}
  },
  {
   "cell_type": "code",
   "execution_count": null,
   "metadata": {},
   "outputs": [],
   "source": [
    "data['totalwords'] = [len(x.split()) for x in data['description'].tolist()]"
   ]
  },
  {
   "cell_type": "code",
   "execution_count": null,
   "metadata": {},
   "outputs": [],
   "source": [
    "#words vs success\n",
    "pg.corr(x=data['totalwords'], y=data['percentage_fulfilled'])"
   ]
  }
 ]
}