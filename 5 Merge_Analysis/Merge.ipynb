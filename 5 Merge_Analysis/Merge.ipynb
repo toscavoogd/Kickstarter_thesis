{
 "metadata": {
  "language_info": {
   "codemirror_mode": {
    "name": "ipython",
    "version": 3
   },
   "file_extension": ".py",
   "mimetype": "text/x-python",
   "name": "python",
   "nbconvert_exporter": "python",
   "pygments_lexer": "ipython3",
   "version": "3.8.5"
  },
  "orig_nbformat": 2,
  "kernelspec": {
   "name": "python385jvsc74a57bd0c40bd1a94d29f9b829dc30a9632bd0f2ee319c04c26448f795744f33155270bf",
   "display_name": "Python 3.8.5 64-bit ('base': conda)"
  }
 },
 "nbformat": 4,
 "nbformat_minor": 2,
 "cells": [
  {
   "source": [
    "# Import"
   ],
   "cell_type": "markdown",
   "metadata": {}
  },
  {
   "cell_type": "code",
   "execution_count": 35,
   "metadata": {},
   "outputs": [],
   "source": [
    "import pandas as pd\n",
    "import numpy as np \n",
    "import matplotlib.pyplot as plt\n",
    "import pingouin as pg\n",
    "\n",
    "from numpy import mean\n",
    "from numpy import std\n",
    "from numpy.random import randn\n",
    "from numpy.random import seed\n",
    "from matplotlib import pyplot"
   ]
  },
  {
   "source": [
    "# Load data"
   ],
   "cell_type": "markdown",
   "metadata": {}
  },
  {
   "cell_type": "code",
   "execution_count": 36,
   "metadata": {},
   "outputs": [],
   "source": [
    "#load data\n",
    "data = pd.read_excel('/Users/toscavoogd/Kickstarter_Thesis/cleaned_data.xlsx', index_col=0)\n",
    "com_des_sus = pd.read_excel('/Users/toscavoogd/Kickstarter_Thesis/4 Topic_modeling/sustainability_data.xlsx')\n",
    "com_des_innov = pd.read_excel('/Users/toscavoogd/Kickstarter_Thesis/4 Topic_modeling/innovation_data.xlsx')\n",
    "sentiment = pd.read_excel('/Users/toscavoogd/Kickstarter_Thesis/3 Sentiment/sentiment_data.xlsx')\n",
    "comment_count = pd.read_excel('/Users/toscavoogd/kickstarter_thesis/comment_count.xlsx')"
   ]
  },
  {
   "cell_type": "code",
   "execution_count": 37,
   "metadata": {},
   "outputs": [
    {
     "output_type": "execute_result",
     "data": {
      "text/plain": [
       "Index(['id', 'name', 'creator', 'goal', 'pledged_amount',\n",
       "       'percentage_fulfilled', 'status', 'backers', 'launch_date', 'deadline',\n",
       "       'duration_days', 'description', 'comments'],\n",
       "      dtype='object')"
      ]
     },
     "metadata": {},
     "execution_count": 37
    }
   ],
   "source": [
    "data.columns"
   ]
  },
  {
   "cell_type": "code",
   "execution_count": 38,
   "metadata": {},
   "outputs": [
    {
     "output_type": "execute_result",
     "data": {
      "text/plain": [
       "Index(['id', 'sus_com_totalword', 'sus_com_StdDev', 'sus_des_totalword',\n",
       "       'sus_des_StdDev'],\n",
       "      dtype='object')"
      ]
     },
     "metadata": {},
     "execution_count": 38
    }
   ],
   "source": [
    "com_des_sus = com_des_sus.rename(columns={'Sum_ContainWordComment': 'sus_com_totalword'}, index={'ONE': 'Row_1'})\n",
    "com_des_sus = com_des_sus.rename(columns={'StdDev_ContainWordComment': 'sus_com_StdDev'}, index={'ONE': 'Row_1'})\n",
    "com_des_sus = com_des_sus.rename(columns={'Sum_ContainWordDescription': 'sus_des_totalword'}, index={'ONE': 'Row_1'})\n",
    "com_des_sus = com_des_sus.rename(columns={'StdDev_ContainWordDescription': 'sus_des_StdDev'}, index={'ONE': 'Row_1'})\n",
    "\n",
    "com_des_sus.columns"
   ]
  },
  {
   "cell_type": "code",
   "execution_count": 39,
   "metadata": {},
   "outputs": [
    {
     "output_type": "execute_result",
     "data": {
      "text/plain": [
       "Index(['id', 'innov_com_totalword', 'innov_com_StdDev', 'innov_des_totalword',\n",
       "       'innov_des_StdDev'],\n",
       "      dtype='object')"
      ]
     },
     "metadata": {},
     "execution_count": 39
    }
   ],
   "source": [
    "com_des_innov = com_des_innov.rename(columns={'Sum_ContainWordComment': 'innov_com_totalword'}, index={'ONE': 'Row_1'})\n",
    "com_des_innov = com_des_innov.rename(columns={'StdDev_ContainWordComment': 'innov_com_StdDev'}, index={'ONE': 'Row_1'})\n",
    "com_des_innov = com_des_innov.rename(columns={'Sum_ContainWordDescription': 'innov_des_totalword'}, index={'ONE': 'Row_1'})\n",
    "com_des_innov = com_des_innov.rename(columns={'StdDev_ContainWordDescription': 'innov_des_StdDev'}, index={'ONE': 'Row_1'})\n",
    "\n",
    "com_des_innov.columns"
   ]
  },
  {
   "cell_type": "code",
   "execution_count": 40,
   "metadata": {},
   "outputs": [
    {
     "output_type": "execute_result",
     "data": {
      "text/plain": [
       "Index(['id', 'Sum_Sentiment', 'TotalNegative', 'TotalPositive',\n",
       "       'sentiment_com_StdDev'],\n",
       "      dtype='object')"
      ]
     },
     "metadata": {},
     "execution_count": 40
    }
   ],
   "source": [
    "sentiment = sentiment.rename(columns={'StdDev_ContainWord': 'sentiment_com_StdDev'}, index={'ONE': 'Row_1'})\n",
    "\n",
    "sentiment.columns"
   ]
  },
  {
   "cell_type": "code",
   "execution_count": 41,
   "metadata": {},
   "outputs": [
    {
     "output_type": "execute_result",
     "data": {
      "text/plain": [
       "Index(['id', 'com_count'], dtype='object')"
      ]
     },
     "metadata": {},
     "execution_count": 41
    }
   ],
   "source": [
    "comment_count = comment_count[['id', 'com_count']]\n",
    "comment_count.columns"
   ]
  },
  {
   "source": [
    "# Create pledge/backer ratio for hypothesis testing"
   ],
   "cell_type": "markdown",
   "metadata": {}
  },
  {
   "cell_type": "code",
   "execution_count": 42,
   "metadata": {},
   "outputs": [],
   "source": [
    "data['pledge_backer_ratio'] = data['pledged_amount'] / data['backers']"
   ]
  },
  {
   "source": [
    "# Merge all data in one dataframe"
   ],
   "cell_type": "markdown",
   "metadata": {}
  },
  {
   "cell_type": "code",
   "execution_count": 43,
   "metadata": {},
   "outputs": [],
   "source": [
    "from functools import reduce\n",
    "\n",
    "data_frames = [data, comment_count, com_des_sus, com_des_innov, sentiment]\n",
    "merged_data = reduce(lambda  left,right: pd.merge(left,right,on=['id'], how='left'), data_frames)"
   ]
  },
  {
   "cell_type": "code",
   "execution_count": 44,
   "metadata": {},
   "outputs": [
    {
     "output_type": "execute_result",
     "data": {
      "text/plain": [
       "Index(['id', 'name', 'creator', 'goal', 'pledged_amount',\n",
       "       'percentage_fulfilled', 'status', 'backers', 'launch_date', 'deadline',\n",
       "       'duration_days', 'description', 'comments', 'pledge_backer_ratio',\n",
       "       'com_count', 'sus_com_totalword', 'sus_com_StdDev', 'sus_des_totalword',\n",
       "       'sus_des_StdDev', 'innov_com_totalword', 'innov_com_StdDev',\n",
       "       'innov_des_totalword', 'innov_des_StdDev', 'Sum_Sentiment',\n",
       "       'TotalNegative', 'TotalPositive', 'sentiment_com_StdDev'],\n",
       "      dtype='object')"
      ]
     },
     "metadata": {},
     "execution_count": 44
    }
   ],
   "source": [
    "merged_data.columns"
   ]
  },
  {
   "cell_type": "code",
   "execution_count": 45,
   "metadata": {},
   "outputs": [
    {
     "output_type": "execute_result",
     "data": {
      "text/plain": [
       "id                      220\n",
       "name                    220\n",
       "creator                 220\n",
       "goal                    220\n",
       "pledged_amount          220\n",
       "percentage_fulfilled    220\n",
       "status                  220\n",
       "backers                 220\n",
       "launch_date             220\n",
       "deadline                220\n",
       "duration_days           220\n",
       "description             220\n",
       "comments                220\n",
       "pledge_backer_ratio     220\n",
       "com_count               219\n",
       "sus_com_totalword       220\n",
       "sus_com_StdDev          220\n",
       "sus_des_totalword       220\n",
       "sus_des_StdDev          220\n",
       "innov_com_totalword     220\n",
       "innov_com_StdDev        220\n",
       "innov_des_totalword     220\n",
       "innov_des_StdDev        220\n",
       "Sum_Sentiment           220\n",
       "TotalNegative           220\n",
       "TotalPositive           220\n",
       "sentiment_com_StdDev    220\n",
       "dtype: int64"
      ]
     },
     "metadata": {},
     "execution_count": 45
    }
   ],
   "source": [
    "merged_data = merged_data.drop_duplicates()\n",
    "merged_data.count()"
   ]
  },
  {
   "source": [
    "## Save to excel"
   ],
   "cell_type": "markdown",
   "metadata": {}
  },
  {
   "cell_type": "code",
   "execution_count": 47,
   "metadata": {},
   "outputs": [
    {
     "output_type": "execute_result",
     "data": {
      "text/plain": [
       "             id                                               name  \\\n",
       "0     617809533                 Japan's First Ninja Online Academy   \n",
       "2     236153263       Design For 3D Printing | Blender Masterclass   \n",
       "4    1854794581  What's an Abortion, Anyway? - Children's Book ...   \n",
       "6    1754229383                                       Oink Games +   \n",
       "8    1717499987                         Higher Order Drink Smokers   \n",
       "..          ...                                                ...   \n",
       "221   252476802                               Creeper Magazine 002   \n",
       "222   217466423                    Monarchs of the Wild: Chapter 1   \n",
       "223   246725515                                     My Chemo Fairy   \n",
       "224  1485748913                                 Reventure: Orbtale   \n",
       "225   406498745                      BARE Knives 2.0: The Full Set   \n",
       "\n",
       "                                 creator     goal  pledged_amount  \\\n",
       "0                    Japan Ninja Council  6000000          579309   \n",
       "2                     3D Printer Academy     4000            8410   \n",
       "4               Carly Manes and Emulsify    10000           17735   \n",
       "6                  Oink Games | オインクゲームズ  3000000         4080686   \n",
       "8                             Cole Miles     7300           30526   \n",
       "..                                   ...      ...             ...   \n",
       "221                     Oh Nothing Press     2000            2639   \n",
       "222                                  Guy     2000            3097   \n",
       "223  Stephanie Parker & Heather Pastrick    25000           25441   \n",
       "224                            Javi Cepa    20000           51578   \n",
       "225                        BARE Cookware    15000          231146   \n",
       "\n",
       "     percentage_fulfilled status  backers               launch_date  \\\n",
       "0                9.655150   live       60  Thu May 13 13:00:03 2021   \n",
       "2              210.250000   live      108  Thu May 13 15:08:52 2021   \n",
       "4              177.350000   live      400  Mon May 10 13:16:32 2021   \n",
       "6              136.022867   live     1095  Tue May 11 15:03:33 2021   \n",
       "8              418.164384   live      371  Thu Apr 29 17:00:48 2021   \n",
       "..                    ...    ...      ...                       ...   \n",
       "221            131.966000   live       62  Tue Apr 13 04:38:11 2021   \n",
       "222            154.850000   live       49  Mon May  3 17:30:42 2021   \n",
       "223            101.764000   live      169  Wed Apr 21 14:45:14 2021   \n",
       "224            257.890000   live     1002  Thu Apr 29 17:55:37 2021   \n",
       "225           1540.973333   live     1281  Tue May 11 13:59:46 2021   \n",
       "\n",
       "                     deadline  ...  sus_des_StdDev innov_com_totalword  \\\n",
       "0    Mon Jul 12 13:00:03 2021  ...        0.185637                   0   \n",
       "2    Sat Jun 12 15:08:52 2021  ...        0.000000                   8   \n",
       "4    Wed Jun  9 13:16:32 2021  ...        0.132453                   3   \n",
       "6    Fri Jun  4 17:00:00 2021  ...        0.000000                   2   \n",
       "8    Tue Jun  1 17:00:48 2021  ...        0.000000                   3   \n",
       "..                        ...  ...             ...                 ...   \n",
       "221  Sun May 23 04:38:11 2021  ...        0.000000                   0   \n",
       "222  Wed Jun  2 17:30:42 2021  ...        0.132453                   0   \n",
       "223  Mon May 24 14:45:14 2021  ...        0.000000                   0   \n",
       "224  Mon May 24 17:55:37 2021  ...        0.000000                   6   \n",
       "225  Thu Jun 10 13:59:46 2021  ...        0.309620                  16   \n",
       "\n",
       "    innov_com_StdDev  innov_des_totalword innov_des_StdDev  Sum_Sentiment  \\\n",
       "0           0.000000                   16         0.869971             79   \n",
       "2           0.678267                   11         0.739204             28   \n",
       "4           0.351123                    3         0.351123            102   \n",
       "6           0.234082                    0         0.000000             32   \n",
       "8           0.351123                    3         0.351123            200   \n",
       "..               ...                  ...              ...            ...   \n",
       "221         0.000000                    0         0.000000              5   \n",
       "222         0.000000                   17         0.993319             29   \n",
       "223         0.000000                    2         0.234082             18   \n",
       "224         0.493103                    0         0.000000            182   \n",
       "225         0.853857                   10         0.673199            321   \n",
       "\n",
       "     TotalNegative  TotalPositive  sentiment_com_StdDev  budget_discussed  \n",
       "0               22             64              0.118428                 0  \n",
       "2               21             36              0.080906                 0  \n",
       "4               10             62              0.096418                 0  \n",
       "6               94            114              0.078588                 0  \n",
       "8               83            196              0.094397                 1  \n",
       "..             ...            ...                   ...               ...  \n",
       "221              1              3              0.052434                 0  \n",
       "222              1             15              0.067398                 0  \n",
       "223             11             22              0.111403                 0  \n",
       "224            407            561              0.091071                 0  \n",
       "225            425            652              0.111770                 0  \n",
       "\n",
       "[220 rows x 28 columns]"
      ],
      "text/html": "<div>\n<style scoped>\n    .dataframe tbody tr th:only-of-type {\n        vertical-align: middle;\n    }\n\n    .dataframe tbody tr th {\n        vertical-align: top;\n    }\n\n    .dataframe thead th {\n        text-align: right;\n    }\n</style>\n<table border=\"1\" class=\"dataframe\">\n  <thead>\n    <tr style=\"text-align: right;\">\n      <th></th>\n      <th>id</th>\n      <th>name</th>\n      <th>creator</th>\n      <th>goal</th>\n      <th>pledged_amount</th>\n      <th>percentage_fulfilled</th>\n      <th>status</th>\n      <th>backers</th>\n      <th>launch_date</th>\n      <th>deadline</th>\n      <th>...</th>\n      <th>sus_des_StdDev</th>\n      <th>innov_com_totalword</th>\n      <th>innov_com_StdDev</th>\n      <th>innov_des_totalword</th>\n      <th>innov_des_StdDev</th>\n      <th>Sum_Sentiment</th>\n      <th>TotalNegative</th>\n      <th>TotalPositive</th>\n      <th>sentiment_com_StdDev</th>\n      <th>budget_discussed</th>\n    </tr>\n  </thead>\n  <tbody>\n    <tr>\n      <th>0</th>\n      <td>617809533</td>\n      <td>Japan's First Ninja Online Academy</td>\n      <td>Japan Ninja Council</td>\n      <td>6000000</td>\n      <td>579309</td>\n      <td>9.655150</td>\n      <td>live</td>\n      <td>60</td>\n      <td>Thu May 13 13:00:03 2021</td>\n      <td>Mon Jul 12 13:00:03 2021</td>\n      <td>...</td>\n      <td>0.185637</td>\n      <td>0</td>\n      <td>0.000000</td>\n      <td>16</td>\n      <td>0.869971</td>\n      <td>79</td>\n      <td>22</td>\n      <td>64</td>\n      <td>0.118428</td>\n      <td>0</td>\n    </tr>\n    <tr>\n      <th>2</th>\n      <td>236153263</td>\n      <td>Design For 3D Printing | Blender Masterclass</td>\n      <td>3D Printer Academy</td>\n      <td>4000</td>\n      <td>8410</td>\n      <td>210.250000</td>\n      <td>live</td>\n      <td>108</td>\n      <td>Thu May 13 15:08:52 2021</td>\n      <td>Sat Jun 12 15:08:52 2021</td>\n      <td>...</td>\n      <td>0.000000</td>\n      <td>8</td>\n      <td>0.678267</td>\n      <td>11</td>\n      <td>0.739204</td>\n      <td>28</td>\n      <td>21</td>\n      <td>36</td>\n      <td>0.080906</td>\n      <td>0</td>\n    </tr>\n    <tr>\n      <th>4</th>\n      <td>1854794581</td>\n      <td>What's an Abortion, Anyway? - Children's Book ...</td>\n      <td>Carly Manes and Emulsify</td>\n      <td>10000</td>\n      <td>17735</td>\n      <td>177.350000</td>\n      <td>live</td>\n      <td>400</td>\n      <td>Mon May 10 13:16:32 2021</td>\n      <td>Wed Jun  9 13:16:32 2021</td>\n      <td>...</td>\n      <td>0.132453</td>\n      <td>3</td>\n      <td>0.351123</td>\n      <td>3</td>\n      <td>0.351123</td>\n      <td>102</td>\n      <td>10</td>\n      <td>62</td>\n      <td>0.096418</td>\n      <td>0</td>\n    </tr>\n    <tr>\n      <th>6</th>\n      <td>1754229383</td>\n      <td>Oink Games +</td>\n      <td>Oink Games | オインクゲームズ</td>\n      <td>3000000</td>\n      <td>4080686</td>\n      <td>136.022867</td>\n      <td>live</td>\n      <td>1095</td>\n      <td>Tue May 11 15:03:33 2021</td>\n      <td>Fri Jun  4 17:00:00 2021</td>\n      <td>...</td>\n      <td>0.000000</td>\n      <td>2</td>\n      <td>0.234082</td>\n      <td>0</td>\n      <td>0.000000</td>\n      <td>32</td>\n      <td>94</td>\n      <td>114</td>\n      <td>0.078588</td>\n      <td>0</td>\n    </tr>\n    <tr>\n      <th>8</th>\n      <td>1717499987</td>\n      <td>Higher Order Drink Smokers</td>\n      <td>Cole Miles</td>\n      <td>7300</td>\n      <td>30526</td>\n      <td>418.164384</td>\n      <td>live</td>\n      <td>371</td>\n      <td>Thu Apr 29 17:00:48 2021</td>\n      <td>Tue Jun  1 17:00:48 2021</td>\n      <td>...</td>\n      <td>0.000000</td>\n      <td>3</td>\n      <td>0.351123</td>\n      <td>3</td>\n      <td>0.351123</td>\n      <td>200</td>\n      <td>83</td>\n      <td>196</td>\n      <td>0.094397</td>\n      <td>1</td>\n    </tr>\n    <tr>\n      <th>...</th>\n      <td>...</td>\n      <td>...</td>\n      <td>...</td>\n      <td>...</td>\n      <td>...</td>\n      <td>...</td>\n      <td>...</td>\n      <td>...</td>\n      <td>...</td>\n      <td>...</td>\n      <td>...</td>\n      <td>...</td>\n      <td>...</td>\n      <td>...</td>\n      <td>...</td>\n      <td>...</td>\n      <td>...</td>\n      <td>...</td>\n      <td>...</td>\n      <td>...</td>\n      <td>...</td>\n    </tr>\n    <tr>\n      <th>221</th>\n      <td>252476802</td>\n      <td>Creeper Magazine 002</td>\n      <td>Oh Nothing Press</td>\n      <td>2000</td>\n      <td>2639</td>\n      <td>131.966000</td>\n      <td>live</td>\n      <td>62</td>\n      <td>Tue Apr 13 04:38:11 2021</td>\n      <td>Sun May 23 04:38:11 2021</td>\n      <td>...</td>\n      <td>0.000000</td>\n      <td>0</td>\n      <td>0.000000</td>\n      <td>0</td>\n      <td>0.000000</td>\n      <td>5</td>\n      <td>1</td>\n      <td>3</td>\n      <td>0.052434</td>\n      <td>0</td>\n    </tr>\n    <tr>\n      <th>222</th>\n      <td>217466423</td>\n      <td>Monarchs of the Wild: Chapter 1</td>\n      <td>Guy</td>\n      <td>2000</td>\n      <td>3097</td>\n      <td>154.850000</td>\n      <td>live</td>\n      <td>49</td>\n      <td>Mon May  3 17:30:42 2021</td>\n      <td>Wed Jun  2 17:30:42 2021</td>\n      <td>...</td>\n      <td>0.132453</td>\n      <td>0</td>\n      <td>0.000000</td>\n      <td>17</td>\n      <td>0.993319</td>\n      <td>29</td>\n      <td>1</td>\n      <td>15</td>\n      <td>0.067398</td>\n      <td>0</td>\n    </tr>\n    <tr>\n      <th>223</th>\n      <td>246725515</td>\n      <td>My Chemo Fairy</td>\n      <td>Stephanie Parker &amp; Heather Pastrick</td>\n      <td>25000</td>\n      <td>25441</td>\n      <td>101.764000</td>\n      <td>live</td>\n      <td>169</td>\n      <td>Wed Apr 21 14:45:14 2021</td>\n      <td>Mon May 24 14:45:14 2021</td>\n      <td>...</td>\n      <td>0.000000</td>\n      <td>0</td>\n      <td>0.000000</td>\n      <td>2</td>\n      <td>0.234082</td>\n      <td>18</td>\n      <td>11</td>\n      <td>22</td>\n      <td>0.111403</td>\n      <td>0</td>\n    </tr>\n    <tr>\n      <th>224</th>\n      <td>1485748913</td>\n      <td>Reventure: Orbtale</td>\n      <td>Javi Cepa</td>\n      <td>20000</td>\n      <td>51578</td>\n      <td>257.890000</td>\n      <td>live</td>\n      <td>1002</td>\n      <td>Thu Apr 29 17:55:37 2021</td>\n      <td>Mon May 24 17:55:37 2021</td>\n      <td>...</td>\n      <td>0.000000</td>\n      <td>6</td>\n      <td>0.493103</td>\n      <td>0</td>\n      <td>0.000000</td>\n      <td>182</td>\n      <td>407</td>\n      <td>561</td>\n      <td>0.091071</td>\n      <td>0</td>\n    </tr>\n    <tr>\n      <th>225</th>\n      <td>406498745</td>\n      <td>BARE Knives 2.0: The Full Set</td>\n      <td>BARE Cookware</td>\n      <td>15000</td>\n      <td>231146</td>\n      <td>1540.973333</td>\n      <td>live</td>\n      <td>1281</td>\n      <td>Tue May 11 13:59:46 2021</td>\n      <td>Thu Jun 10 13:59:46 2021</td>\n      <td>...</td>\n      <td>0.309620</td>\n      <td>16</td>\n      <td>0.853857</td>\n      <td>10</td>\n      <td>0.673199</td>\n      <td>321</td>\n      <td>425</td>\n      <td>652</td>\n      <td>0.111770</td>\n      <td>0</td>\n    </tr>\n  </tbody>\n</table>\n<p>220 rows × 28 columns</p>\n</div>"
     },
     "metadata": {},
     "execution_count": 47
    }
   ],
   "source": [
    "merged_data['budget_discussed'] = merged_data.description.str.count(\"budget\")\n",
    "merged_data"
   ]
  },
  {
   "cell_type": "code",
   "execution_count": 48,
   "metadata": {},
   "outputs": [],
   "source": [
    "merged_data['com_count'] = merged_data['com_count'].str.replace(',','')\n",
    "merged_data.to_excel('/Users/toscavoogd/Kickstarter_Thesis/merged_data.xlsx')"
   ]
  },
  {
   "source": [
    "# Count number of words in the description"
   ],
   "cell_type": "markdown",
   "metadata": {}
  },
  {
   "cell_type": "code",
   "execution_count": 36,
   "metadata": {},
   "outputs": [],
   "source": [
    "data['totalwords'] = [len(x.split()) for x in data['description'].tolist()]"
   ]
  },
  {
   "cell_type": "code",
   "execution_count": 35,
   "metadata": {},
   "outputs": [
    {
     "output_type": "execute_result",
     "data": {
      "text/plain": [
       "           n         r          CI95%     p-val   BF10     power\n",
       "pearson  220  0.056004  [-0.08, 0.19]  0.408473  0.119  0.131287"
      ],
      "text/html": "<div>\n<style scoped>\n    .dataframe tbody tr th:only-of-type {\n        vertical-align: middle;\n    }\n\n    .dataframe tbody tr th {\n        vertical-align: top;\n    }\n\n    .dataframe thead th {\n        text-align: right;\n    }\n</style>\n<table border=\"1\" class=\"dataframe\">\n  <thead>\n    <tr style=\"text-align: right;\">\n      <th></th>\n      <th>n</th>\n      <th>r</th>\n      <th>CI95%</th>\n      <th>p-val</th>\n      <th>BF10</th>\n      <th>power</th>\n    </tr>\n  </thead>\n  <tbody>\n    <tr>\n      <th>pearson</th>\n      <td>220</td>\n      <td>0.056004</td>\n      <td>[-0.08, 0.19]</td>\n      <td>0.408473</td>\n      <td>0.119</td>\n      <td>0.131287</td>\n    </tr>\n  </tbody>\n</table>\n</div>"
     },
     "metadata": {},
     "execution_count": 35
    }
   ],
   "source": [
    "#words vs success\n",
    "pg.corr(x=data['totalwords'], y=data['percentage_fulfilled'])"
   ]
  }
 ]
}