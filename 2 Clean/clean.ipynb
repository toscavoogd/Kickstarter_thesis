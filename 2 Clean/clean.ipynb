{
 "metadata": {
  "language_info": {
   "codemirror_mode": {
    "name": "ipython",
    "version": 3
   },
   "file_extension": ".py",
   "mimetype": "text/x-python",
   "name": "python",
   "nbconvert_exporter": "python",
   "pygments_lexer": "ipython3",
   "version": "3.8.5"
  },
  "orig_nbformat": 2,
  "kernelspec": {
   "name": "python385jvsc74a57bd0c40bd1a94d29f9b829dc30a9632bd0f2ee319c04c26448f795744f33155270bf",
   "display_name": "Python 3.8.5 64-bit ('base': conda)"
  }
 },
 "nbformat": 4,
 "nbformat_minor": 2,
 "cells": [
  {
   "cell_type": "code",
   "execution_count": 1,
   "metadata": {},
   "outputs": [],
   "source": [
    "import os\n",
    "import random\n",
    "import pandas as pd\n",
    "import numpy as np\n",
    "import nltk\n",
    "from nltk.tokenize import sent_tokenize, word_tokenize\n",
    "from nltk.corpus import stopwords"
   ]
  },
  {
   "cell_type": "code",
   "execution_count": 3,
   "metadata": {},
   "outputs": [
    {
     "output_type": "execute_result",
     "data": {
      "text/plain": [
       "Index(['id', 'name', 'creator', 'goal', 'pledged_amount',\n",
       "       'percentage_fulfilled', 'status', 'backers', 'launch_date', 'deadline',\n",
       "       'url', 'duration_days', 'description', 'comment_count', 'comments_url',\n",
       "       'comments'],\n",
       "      dtype='object')"
      ]
     },
     "metadata": {},
     "execution_count": 3
    }
   ],
   "source": [
    "data = pd.read_excel('/Users/toscavoogd/Kickstarter_Thesis/kickstarter_description_comments.xlsx', index_col=0)\n",
    "data.columns"
   ]
  },
  {
   "source": [
    "# Clean"
   ],
   "cell_type": "markdown",
   "metadata": {}
  },
  {
   "cell_type": "code",
   "execution_count": 4,
   "metadata": {},
   "outputs": [
    {
     "output_type": "execute_result",
     "data": {
      "text/plain": [
       "id                      220\n",
       "name                    220\n",
       "creator                 220\n",
       "goal                    220\n",
       "pledged_amount          220\n",
       "percentage_fulfilled    220\n",
       "status                  220\n",
       "backers                 220\n",
       "launch_date             220\n",
       "deadline                220\n",
       "url                     220\n",
       "duration_days           220\n",
       "description             220\n",
       "comment_count           220\n",
       "comments_url            220\n",
       "comments                220\n",
       "dtype: int64"
      ]
     },
     "metadata": {},
     "execution_count": 4
    }
   ],
   "source": [
    "#Drop NAN\n",
    "data = data[data['comments'].notna()]\n",
    "data = data[data['description'].notna()]\n",
    "data.count()"
   ]
  },
  {
   "cell_type": "code",
   "execution_count": 5,
   "metadata": {},
   "outputs": [],
   "source": [
    "#Delete \\n\n",
    "data['comments'] = data['comments'].str.replace('\\n',' ')\n",
    "data['description'] = data['description'].str.replace('\\n',' ')"
   ]
  },
  {
   "source": [
    "### normalize"
   ],
   "cell_type": "markdown",
   "metadata": {}
  },
  {
   "cell_type": "code",
   "execution_count": 6,
   "metadata": {},
   "outputs": [],
   "source": [
    "#Lower case\n",
    "data['comments'] = data['comments'].str.lower()\n",
    "data['description'] = data['description'].str.lower()"
   ]
  },
  {
   "cell_type": "code",
   "execution_count": 7,
   "metadata": {},
   "outputs": [
    {
     "output_type": "stream",
     "name": "stderr",
     "text": [
      "<ipython-input-7-fa8faca532b2>:2: FutureWarning: The default value of regex will change from True to False in a future version.\n  data['comments'] = data['comments'].str.replace('\\d+', '')\n<ipython-input-7-fa8faca532b2>:3: FutureWarning: The default value of regex will change from True to False in a future version.\n  data['description'] = data['description'].str.replace('\\d+', '')\n"
     ]
    }
   ],
   "source": [
    "#Remove numbers\n",
    "data['comments'] = data['comments'].str.replace('\\d+', '')\n",
    "data['description'] = data['description'].str.replace('\\d+', '')"
   ]
  },
  {
   "cell_type": "code",
   "execution_count": 8,
   "metadata": {},
   "outputs": [],
   "source": [
    "#Remove stopwords\n",
    "stop = stopwords.words('english')\n",
    "data['comments'] = data['comments'].apply(lambda x: ' '.join([word for word in x.split() if word not in (stop)]))\n",
    "data['description'] = data['description'].apply(lambda x: ' '.join([word for word in x.split() if word not in (stop)]))"
   ]
  },
  {
   "cell_type": "code",
   "execution_count": 9,
   "metadata": {},
   "outputs": [
    {
     "output_type": "stream",
     "name": "stderr",
     "text": [
      "<ipython-input-9-68c6fd125a8e>:2: FutureWarning: The default value of regex will change from True to False in a future version.\n  data['comments'] = data['comments'].str.replace('[^\\w\\s]', '')\n<ipython-input-9-68c6fd125a8e>:3: FutureWarning: The default value of regex will change from True to False in a future version.\n  data['description'] = data['description'].str.replace('[^\\w\\s]', '')\n"
     ]
    }
   ],
   "source": [
    "#remove punctuation\n",
    "data['comments'] = data['comments'].str.replace('[^\\w\\s]', '')\n",
    "data['description'] = data['description'].str.replace('[^\\w\\s]', '')"
   ]
  },
  {
   "cell_type": "code",
   "execution_count": 10,
   "metadata": {},
   "outputs": [
    {
     "output_type": "execute_result",
     "data": {
      "text/plain": [
       "             id                                               name  \\\n",
       "0     617809533                 Japan's First Ninja Online Academy   \n",
       "2     236153263       Design For 3D Printing | Blender Masterclass   \n",
       "6    1854794581  What's an Abortion, Anyway? - Children's Book ...   \n",
       "7    1754229383                                       Oink Games +   \n",
       "8    1717499987                         Higher Order Drink Smokers   \n",
       "..          ...                                                ...   \n",
       "285   252476802                               Creeper Magazine 002   \n",
       "286   217466423                    Monarchs of the Wild: Chapter 1   \n",
       "287   246725515                                     My Chemo Fairy   \n",
       "288  1485748913                                 Reventure: Orbtale   \n",
       "291   406498745                      BARE Knives 2.0: The Full Set   \n",
       "\n",
       "                                 creator     goal  pledged_amount  \\\n",
       "0                    Japan Ninja Council  6000000          579309   \n",
       "2                     3D Printer Academy     4000            8410   \n",
       "6               Carly Manes and Emulsify    10000           17735   \n",
       "7                  Oink Games | オインクゲームズ  3000000         4080686   \n",
       "8                             Cole Miles     7300           30526   \n",
       "..                                   ...      ...             ...   \n",
       "285                     Oh Nothing Press     2000            2639   \n",
       "286                                  Guy     2000            3097   \n",
       "287  Stephanie Parker & Heather Pastrick    25000           25441   \n",
       "288                            Javi Cepa    20000           51578   \n",
       "291                        BARE Cookware    15000          231146   \n",
       "\n",
       "     percentage_fulfilled status  backers               launch_date  \\\n",
       "0                9.655150   live       60  Thu May 13 13:00:03 2021   \n",
       "2              210.250000   live      108  Thu May 13 15:08:52 2021   \n",
       "6              177.350000   live      400  Mon May 10 13:16:32 2021   \n",
       "7              136.022867   live     1095  Tue May 11 15:03:33 2021   \n",
       "8              418.164384   live      371  Thu Apr 29 17:00:48 2021   \n",
       "..                    ...    ...      ...                       ...   \n",
       "285            131.966000   live       62  Tue Apr 13 04:38:11 2021   \n",
       "286            154.850000   live       49  Mon May  3 17:30:42 2021   \n",
       "287            101.764000   live      169  Wed Apr 21 14:45:14 2021   \n",
       "288            257.890000   live     1002  Thu Apr 29 17:55:37 2021   \n",
       "291           1540.973333   live     1281  Tue May 11 13:59:46 2021   \n",
       "\n",
       "                     deadline  duration_days  \\\n",
       "0    Mon Jul 12 13:00:03 2021             60   \n",
       "2    Sat Jun 12 15:08:52 2021             30   \n",
       "6    Wed Jun  9 13:16:32 2021             30   \n",
       "7    Fri Jun  4 17:00:00 2021             25   \n",
       "8    Tue Jun  1 17:00:48 2021             33   \n",
       "..                        ...            ...   \n",
       "285  Sun May 23 04:38:11 2021             40   \n",
       "286  Wed Jun  2 17:30:42 2021             30   \n",
       "287  Mon May 24 14:45:14 2021             33   \n",
       "288  Mon May 24 17:55:37 2021             25   \n",
       "291  Thu Jun 10 13:59:46 2021             30   \n",
       "\n",
       "                                           description  \\\n",
       "0    opening official online ninja course  certific...   \n",
       "2    learn learn skills need design models printing...   \n",
       "6    wow support surpassed first stretch goal movin...   \n",
       "7    play deep sea adventure  bgg startups  bgg moo...   \n",
       "8    drink smokers luxury hardwood cocktail compani...   \n",
       "..                                                 ...   \n",
       "285  creeper back fiction art reportage frontlines ...   \n",
       "286  so whats project exactly glad asked were writi...   \n",
       "287  cancer stinksespecially kiddos recently experi...   \n",
       "288  video voice english introduction  rules video ...   \n",
       "291  due popular demand last year introduced bare k...   \n",
       "\n",
       "                                              comments  \n",
       "0    mark ison villegas days ago looking forward et...  \n",
       "2    hannah day ago maybe simple printer guide migh...  \n",
       "6    smaug days ago donator level excellent idea ch...  \n",
       "7    shadowneko day ago titles says only available ...  \n",
       "8    chloe wilkinson day ago hi cole ive added  wal...  \n",
       "..                                                 ...  \n",
       "285  fangin month ago congratulations hitting targe...  \n",
       "286  eric tien days ago many chapters total expect ...  \n",
       "287  begnaud month ago world needs this thank creat...  \n",
       "288  mischeel klatt minutes ago forgot increase con...  \n",
       "291  hassan jaber hours ago hi first backing im sup...  \n",
       "\n",
       "[220 rows x 13 columns]"
      ],
      "text/html": "<div>\n<style scoped>\n    .dataframe tbody tr th:only-of-type {\n        vertical-align: middle;\n    }\n\n    .dataframe tbody tr th {\n        vertical-align: top;\n    }\n\n    .dataframe thead th {\n        text-align: right;\n    }\n</style>\n<table border=\"1\" class=\"dataframe\">\n  <thead>\n    <tr style=\"text-align: right;\">\n      <th></th>\n      <th>id</th>\n      <th>name</th>\n      <th>creator</th>\n      <th>goal</th>\n      <th>pledged_amount</th>\n      <th>percentage_fulfilled</th>\n      <th>status</th>\n      <th>backers</th>\n      <th>launch_date</th>\n      <th>deadline</th>\n      <th>duration_days</th>\n      <th>description</th>\n      <th>comments</th>\n    </tr>\n  </thead>\n  <tbody>\n    <tr>\n      <th>0</th>\n      <td>617809533</td>\n      <td>Japan's First Ninja Online Academy</td>\n      <td>Japan Ninja Council</td>\n      <td>6000000</td>\n      <td>579309</td>\n      <td>9.655150</td>\n      <td>live</td>\n      <td>60</td>\n      <td>Thu May 13 13:00:03 2021</td>\n      <td>Mon Jul 12 13:00:03 2021</td>\n      <td>60</td>\n      <td>opening official online ninja course  certific...</td>\n      <td>mark ison villegas days ago looking forward et...</td>\n    </tr>\n    <tr>\n      <th>2</th>\n      <td>236153263</td>\n      <td>Design For 3D Printing | Blender Masterclass</td>\n      <td>3D Printer Academy</td>\n      <td>4000</td>\n      <td>8410</td>\n      <td>210.250000</td>\n      <td>live</td>\n      <td>108</td>\n      <td>Thu May 13 15:08:52 2021</td>\n      <td>Sat Jun 12 15:08:52 2021</td>\n      <td>30</td>\n      <td>learn learn skills need design models printing...</td>\n      <td>hannah day ago maybe simple printer guide migh...</td>\n    </tr>\n    <tr>\n      <th>6</th>\n      <td>1854794581</td>\n      <td>What's an Abortion, Anyway? - Children's Book ...</td>\n      <td>Carly Manes and Emulsify</td>\n      <td>10000</td>\n      <td>17735</td>\n      <td>177.350000</td>\n      <td>live</td>\n      <td>400</td>\n      <td>Mon May 10 13:16:32 2021</td>\n      <td>Wed Jun  9 13:16:32 2021</td>\n      <td>30</td>\n      <td>wow support surpassed first stretch goal movin...</td>\n      <td>smaug days ago donator level excellent idea ch...</td>\n    </tr>\n    <tr>\n      <th>7</th>\n      <td>1754229383</td>\n      <td>Oink Games +</td>\n      <td>Oink Games | オインクゲームズ</td>\n      <td>3000000</td>\n      <td>4080686</td>\n      <td>136.022867</td>\n      <td>live</td>\n      <td>1095</td>\n      <td>Tue May 11 15:03:33 2021</td>\n      <td>Fri Jun  4 17:00:00 2021</td>\n      <td>25</td>\n      <td>play deep sea adventure  bgg startups  bgg moo...</td>\n      <td>shadowneko day ago titles says only available ...</td>\n    </tr>\n    <tr>\n      <th>8</th>\n      <td>1717499987</td>\n      <td>Higher Order Drink Smokers</td>\n      <td>Cole Miles</td>\n      <td>7300</td>\n      <td>30526</td>\n      <td>418.164384</td>\n      <td>live</td>\n      <td>371</td>\n      <td>Thu Apr 29 17:00:48 2021</td>\n      <td>Tue Jun  1 17:00:48 2021</td>\n      <td>33</td>\n      <td>drink smokers luxury hardwood cocktail compani...</td>\n      <td>chloe wilkinson day ago hi cole ive added  wal...</td>\n    </tr>\n    <tr>\n      <th>...</th>\n      <td>...</td>\n      <td>...</td>\n      <td>...</td>\n      <td>...</td>\n      <td>...</td>\n      <td>...</td>\n      <td>...</td>\n      <td>...</td>\n      <td>...</td>\n      <td>...</td>\n      <td>...</td>\n      <td>...</td>\n      <td>...</td>\n    </tr>\n    <tr>\n      <th>285</th>\n      <td>252476802</td>\n      <td>Creeper Magazine 002</td>\n      <td>Oh Nothing Press</td>\n      <td>2000</td>\n      <td>2639</td>\n      <td>131.966000</td>\n      <td>live</td>\n      <td>62</td>\n      <td>Tue Apr 13 04:38:11 2021</td>\n      <td>Sun May 23 04:38:11 2021</td>\n      <td>40</td>\n      <td>creeper back fiction art reportage frontlines ...</td>\n      <td>fangin month ago congratulations hitting targe...</td>\n    </tr>\n    <tr>\n      <th>286</th>\n      <td>217466423</td>\n      <td>Monarchs of the Wild: Chapter 1</td>\n      <td>Guy</td>\n      <td>2000</td>\n      <td>3097</td>\n      <td>154.850000</td>\n      <td>live</td>\n      <td>49</td>\n      <td>Mon May  3 17:30:42 2021</td>\n      <td>Wed Jun  2 17:30:42 2021</td>\n      <td>30</td>\n      <td>so whats project exactly glad asked were writi...</td>\n      <td>eric tien days ago many chapters total expect ...</td>\n    </tr>\n    <tr>\n      <th>287</th>\n      <td>246725515</td>\n      <td>My Chemo Fairy</td>\n      <td>Stephanie Parker &amp; Heather Pastrick</td>\n      <td>25000</td>\n      <td>25441</td>\n      <td>101.764000</td>\n      <td>live</td>\n      <td>169</td>\n      <td>Wed Apr 21 14:45:14 2021</td>\n      <td>Mon May 24 14:45:14 2021</td>\n      <td>33</td>\n      <td>cancer stinksespecially kiddos recently experi...</td>\n      <td>begnaud month ago world needs this thank creat...</td>\n    </tr>\n    <tr>\n      <th>288</th>\n      <td>1485748913</td>\n      <td>Reventure: Orbtale</td>\n      <td>Javi Cepa</td>\n      <td>20000</td>\n      <td>51578</td>\n      <td>257.890000</td>\n      <td>live</td>\n      <td>1002</td>\n      <td>Thu Apr 29 17:55:37 2021</td>\n      <td>Mon May 24 17:55:37 2021</td>\n      <td>25</td>\n      <td>video voice english introduction  rules video ...</td>\n      <td>mischeel klatt minutes ago forgot increase con...</td>\n    </tr>\n    <tr>\n      <th>291</th>\n      <td>406498745</td>\n      <td>BARE Knives 2.0: The Full Set</td>\n      <td>BARE Cookware</td>\n      <td>15000</td>\n      <td>231146</td>\n      <td>1540.973333</td>\n      <td>live</td>\n      <td>1281</td>\n      <td>Tue May 11 13:59:46 2021</td>\n      <td>Thu Jun 10 13:59:46 2021</td>\n      <td>30</td>\n      <td>due popular demand last year introduced bare k...</td>\n      <td>hassan jaber hours ago hi first backing im sup...</td>\n    </tr>\n  </tbody>\n</table>\n<p>220 rows × 13 columns</p>\n</div>"
     },
     "metadata": {},
     "execution_count": 10
    }
   ],
   "source": [
    "data = data.drop(columns=['comment_count','url','comments_url'])\n",
    "data"
   ]
  },
  {
   "cell_type": "code",
   "execution_count": 11,
   "metadata": {},
   "outputs": [],
   "source": [
    "data_comments = data[['id', 'description', 'comments']]\n",
    "data_comments.to_excel('/Users/toscavoogd/Kickstarter_thesis/data_commentsdescription.xlsx')"
   ]
  },
  {
   "cell_type": "code",
   "execution_count": 12,
   "metadata": {},
   "outputs": [],
   "source": [
    "#save to excel file\n",
    "data.to_excel('/Users/toscavoogd/Kickstarter_thesis/cleaned_data.xlsx')"
   ]
  }
 ]
}